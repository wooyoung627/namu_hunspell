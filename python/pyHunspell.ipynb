{
 "cells": [
  {
   "cell_type": "code",
   "execution_count": null,
   "metadata": {},
   "outputs": [
    {
     "name": "stdout",
     "output_type": "stream",
     "text": [
      "맞춤법 검사 프로그램입니다.\n",
      "검사할 문장을 입력해주세요(exit 입력시 종료): 안녕하세요 저는 우영이에요\n",
      "우영이에요대신 아래 단어를 사용해보세요!\n",
      "['운영이에요', '우엉이에요', '우왕이에요', '유영이에요', '야영이에요', '우연이에요', '수영이에요', '우열이에요', '투영이에요', '우 영이에요', '우유병이에요']\n",
      "\n",
      "1. 우영이에요 를 변경\n",
      "else. 우영이에요를 그대로 유지\n",
      "2\n",
      "\n",
      "입력하신 문장이 그대로 유지됩니다.\n",
      "검사할 문장을 입력해주세요(exit 입력시 종료): 이름이 어떻게 되세요?\n",
      "입력하신 문장이 그대로 유지됩니다.\n"
     ]
    }
   ],
   "source": [
    "# hunspell 라이브러리 import\n",
    "# pip install 로 hunspell 설치 필요\n",
    "import hunspell\n",
    "import re\n",
    "\n",
    "# hunspell 한국어 사전을 등록\n",
    "hun = hunspell.HunSpell('dic/ko.dic', 'dic/ko.aff')\n",
    "pattern = '[^\\\\w\\\\s]'\n",
    "repl = ''\n",
    "\n",
    "print('맞춤법 검사 프로그램입니다.')\n",
    "\n",
    "while True:\n",
    "    flag = 1\n",
    "    text = input(\"검사할 문장을 입력해주세요(exit 입력시 종료): \")\n",
    "    \n",
    "    # exit 입력시 종료\n",
    "    if text=='exit':\n",
    "        break\n",
    "        \n",
    "    # 공백을 기준으로 문장을 단어로 쪼갬\n",
    "    textList = text.split(' ')\n",
    "    \n",
    "    # 각 단어들을 for문 돌려서 hunspell을 이용해 맞춤법 검사\n",
    "    for idx in range(len(textList)):\n",
    "        # 특수기호 제거\n",
    "        txt = re.sub(pattern = pattern, repl=repl, string=textList[idx])\n",
    "        \n",
    "        # 단어가 hunspell 사전에 의해 오류가 있다고 판별되면\n",
    "        if hun.spell(txt) == False:\n",
    "            print(textList[idx] + \"대신 아래 단어를 사용해보세요!\")\n",
    "            # 유사한 단어로 추천\n",
    "            print(hun.suggest(txt))\n",
    "            print(\"\")\n",
    "            \n",
    "            \n",
    "            # 1을 입력하면 단어 변경, 1을 제외한 다른 입력은 단어 유지\n",
    "            print(\"1. \" + textList[idx] + \" 를 변경\")\n",
    "            print(\"else. \" + textList[idx] + \"를 그대로 유지\")\n",
    "            \n",
    "            swt = input()\n",
    "            print(\"\")\n",
    "            \n",
    "            # 단어 교체\n",
    "            if swt=='1':\n",
    "                flag = 0\n",
    "                change = input(\"변경할 단어를 입력해주세요.\")\n",
    "                \n",
    "                textList[idx] = change\n",
    "                print(\"\")\n",
    "            \n",
    "    if flag == 0:\n",
    "        print(\"문장이 변경되었습니다!\")\n",
    "        textChange = ' '.join(textList)\n",
    "        print(text + \" => \" + textChange)\n",
    "        print(\"\")\n",
    "        \n",
    "    if flag == 1:\n",
    "        print(\"입력하신 문장이 그대로 유지됩니다.\")\n",
    "        \n",
    "print(\"프로그램이 종료되었습니다.\")\n",
    "        "
   ]
  },
  {
   "cell_type": "code",
   "execution_count": null,
   "metadata": {},
   "outputs": [],
   "source": []
  },
  {
   "cell_type": "code",
   "execution_count": null,
   "metadata": {},
   "outputs": [],
   "source": []
  }
 ],
 "metadata": {
  "kernelspec": {
   "display_name": "pyenv",
   "language": "python",
   "name": "pyenv"
  },
  "language_info": {
   "codemirror_mode": {
    "name": "ipython",
    "version": 3
   },
   "file_extension": ".py",
   "mimetype": "text/x-python",
   "name": "python",
   "nbconvert_exporter": "python",
   "pygments_lexer": "ipython3",
   "version": "3.8.3"
  }
 },
 "nbformat": 4,
 "nbformat_minor": 4
}
